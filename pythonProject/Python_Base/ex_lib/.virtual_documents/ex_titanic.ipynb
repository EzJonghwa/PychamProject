


import pandas as pd
import matplotlib.pyplot as plt
import seaborn as sns
import os

train = pd.read_csv('./datasets/titanic/train.csv',index_col='PassengerId')
train.shape # 데이터의 행열 수 출력


train.head()





train.info()





# 결측치 체그
train.isnull().sum()


gender_mean = train.groupby('Sex')['Age'].mean()
gender_mean





# 남자 평균, 여자 쳥규느 아이로 채우기.
train.loc[(train['Sex']=='female')&(train['Age'].isnull()),'Age']= int(gender_mean[0])
train.loc[(train['Sex']=='male')&(train['Age'].isnull()),'Age']= int(gender_mean[1])
train.isnull().sum()


train.Cabin.value_counts()


train['Cabin'] = train['Cabin'].fillna('N')
train.isnull().sum()


train = train.dropna() #결츨값 포함된 행 제거.
train.isnull().sum()


###생존자, 사망자 인원수 출력
train['Survived'].value_counts()


# 라벨 컬럼 생성
train['Survived_label']= train['Survived'].replace(0,'Dead').replace(1,'Survived')
train['Survived_label'].value_counts()


# 생존자 시각화
train['Survived_label'].value_counts().plot(kind='bar', rot='vertical')


train['Survived_label'].value_counts().plot(kind='pie', autopct='%1.2f%%')


# 등실 시각화
train['Pclass_label']= train['Pclass'].replace(1,'First Class').replace(2,'Business').replace(3,'Ecomomy')
train['Pclass_label'].value_counts().plot(kind='pie', autopct='%12.f%%')


# 객실별 생존여부
sns.countplot(data=train, x="Pclass_label", hue="Survived_label")


# 성별 생존 여부
sns.countplot(data=train, x='Sex', hue='Survived_label')


# 나이별 생존 여부


f = sns.FacetGrid(train, hue='Survived_label', aspect=3)
f.map(sns.kdeplot, 'Age', fill=True)
f.set(xlim=(0, train['Age'].max()))
f.add_legend()


# 형제, 배우자'
sns.countplot(data=train, x='SibSp',hue='Survived_label')


# 부모, 자식
sns.countplot(data=train, x='Parch', hue='Survived_label')


# 가족유무
train.loc[(train['SibSp'] == 0)&(train['Parch']==0),'Single'] = 'Single'
train.loc[(train['SibSp'] !=0) | (train['Parch'] !=0), 'Single']= 'Family'
sns.countplot(data=train, x='Single', hue='Survived_label')



