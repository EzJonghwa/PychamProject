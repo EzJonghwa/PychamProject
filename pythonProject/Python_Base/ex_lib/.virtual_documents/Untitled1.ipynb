


import numpy as np

python_arr=[1,2,3]
np_arr1= np.array(python_arr)
print('일반 배열', python_arr)
print('ndarry:', np_arr1)


np_arr2 = np.array([[1,2,3],[2,3,4]])
np_arr3 = np.array([[[1,2,3],[4,5,6]],[[7,8,9],[10,11,12]]])
print('ndim1' , type(np_arr1), np_arr1.shape, np_arr1.ndim)
print('ndim2' , type(np_arr2), np_arr2.shape, np_arr2.ndim)
print('ndim3' , type(np_arr3), np_arr3.shape, np_arr3.ndim)


print(np_arr2[0,2])  #1번째 행의 3번쨰 요소
print(np_arr2[:,1:3]) # 모든행 , 두번쨰와 세번째 열



print(np_arr1+np_arr1) # 요소 별 합
print(np_arr1*np_arr1) # 요소별 곱
print(np.sum(np_arr2)) # 합
print(np.sum(np_arr2)) # 평균
#axis 축 : 1행방향, 0열 방향
print(np_arr2)
print(np_arr2.shape) #(2,3) 2 행 3 열 
print('열:',np_arr2.sum(axis=0)) # 열 간의 덧셈
print('행:',np_arr2.sum(axis=1)) # 행 간의 덧셈





# 1차원 배열 생성
arr = np.arange(1,10) # 1~9
print(arr)

# 리 쉐입 3x3
print(arr.reshape(3,3))
print(arr.reshape(3,3).shape)



# dot product(두 벡터의 대응 하는 요소를 곱한 후 그 결과를 모두 더하는 연산
print(np.dot(arr,arr))


arr2 = np.array([[1,2,3],[4,5,6],[7,8,9]])
print(arr2)

# 전치(행과 열을 서로 바꾸는)
print(arr2.transpose())

