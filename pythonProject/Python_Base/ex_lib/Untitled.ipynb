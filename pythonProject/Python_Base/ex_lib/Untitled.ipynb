{
 "cells": [
  {
   "cell_type": "markdown",
   "id": "2678db52-4e1e-4d8c-839b-baa68736bafc",
   "metadata": {},
   "source": [
    "## 탐색적 데이터 분석 (EDA, Exploratory, Data Analysis)\n",
    "- 데이터의 주요 특성을 파악하고 패턴을 찾고 이상값을 식별하며 가설을 세우기 ㅎ위한 이련의 방법론,\n",
    "- 데이터 분석 초기 단계에 수행되며, 데이터를 시각화 하고 통계적으로 요약 합니다.\n",
    "- 1,데이타의 분포와 ㅌ"
   ]
  }
 ],
 "metadata": {
  "kernelspec": {
   "display_name": "tech7",
   "language": "python",
   "name": "tech7"
  },
  "language_info": {
   "codemirror_mode": {
    "name": "ipython",
    "version": 3
   },
   "file_extension": ".py",
   "mimetype": "text/x-python",
   "name": "python",
   "nbconvert_exporter": "python",
   "pygments_lexer": "ipython3",
   "version": "3.9.19"
  }
 },
 "nbformat": 4,
 "nbformat_minor": 5
}
