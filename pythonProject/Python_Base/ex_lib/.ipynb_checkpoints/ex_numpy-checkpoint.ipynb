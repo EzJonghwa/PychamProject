{
 "cells": [
  {
   "cell_type": "markdown",
   "id": "1e819f0f-dd15-4e9f-8cda-c35bc2c5185d",
   "metadata": {},
   "source": [
    "# # numpy 다차원 연산 및 수치 연산을 지원함.\n",
    "# 많은 딥러닝 관련 라이브러리에서 기본 데이터 형태로 사용.\n",
    "# 별칭으로 보통 np"
   ]
  },
  {
   "cell_type": "code",
   "execution_count": 9,
   "id": "dfdab35f-ec7d-4e63-8fab-91cdc6bc480e",
   "metadata": {},
   "outputs": [
    {
     "name": "stdout",
     "output_type": "stream",
     "text": [
      "일반 배열 [1, 2, 3]\n",
      "ndarry: [1 2 3]\n"
     ]
    }
   ],
   "source": [
    "import numpy as np\n",
    "\n",
    "python_arr=[1,2,3]\n",
    "np_arr1= np.array(python_arr)\n",
    "print('일반 배열', python_arr)\n",
    "print('ndarry:', np_arr1)"
   ]
  },
  {
   "cell_type": "code",
   "execution_count": 23,
   "id": "f5ccc7fa-424f-4b26-8af1-bf8b8932c81e",
   "metadata": {},
   "outputs": [
    {
     "name": "stdout",
     "output_type": "stream",
     "text": [
      "ndim1 <class 'numpy.ndarray'> (3,) 1\n",
      "ndim2 <class 'numpy.ndarray'> (2, 3) 2\n",
      "ndim3 <class 'numpy.ndarray'> (2, 2, 3) 3\n"
     ]
    }
   ],
   "source": [
    "np_arr2 = np.array([[1,2,3],[2,3,4]])\n",
    "np_arr3 = np.array([[[1,2,3],[4,5,6]],[[7,8,9],[10,11,12]]])\n",
    "print('ndim1' , type(np_arr1), np_arr1.shape, np_arr1.ndim)\n",
    "print('ndim2' , type(np_arr2), np_arr2.shape, np_arr2.ndim)\n",
    "print('ndim3' , type(np_arr3), np_arr3.shape, np_arr3.ndim)"
   ]
  },
  {
   "cell_type": "code",
   "execution_count": 25,
   "id": "ca18c249-5edb-41ce-b93f-4a752e4aa635",
   "metadata": {},
   "outputs": [
    {
     "name": "stdout",
     "output_type": "stream",
     "text": [
      "3\n",
      "[[2 3]\n",
      " [3 4]]\n"
     ]
    }
   ],
   "source": [
    "print(np_arr2[0,2])  #1번째 행의 3번쨰 요소\n",
    "print(np_arr2[:,1:3]) # 모든행 , 두번쨰와 세번째 열\n"
   ]
  },
  {
   "cell_type": "code",
   "execution_count": 49,
   "id": "108a746f-0c2b-41ff-8daa-a8356d7e053f",
   "metadata": {},
   "outputs": [
    {
     "name": "stdout",
     "output_type": "stream",
     "text": [
      "[2 4 6]\n",
      "[1 4 9]\n",
      "15\n",
      "15\n",
      "[[1 2 3]\n",
      " [2 3 4]]\n",
      "(2, 3)\n",
      "열: [3 5 7]\n",
      "행: [6 9]\n"
     ]
    }
   ],
   "source": [
    "print(np_arr1+np_arr1) # 요소 별 합\n",
    "print(np_arr1*np_arr1) # 요소별 곱\n",
    "print(np.sum(np_arr2)) # 합\n",
    "print(np.sum(np_arr2)) # 평균\n",
    "#axis 축 : 1행방향, 0열 방향\n",
    "print(np_arr2)\n",
    "print(np_arr2.shape) #(2,3) 2 행 3 열 \n",
    "print('열:',np_arr2.sum(axis=0)) # 열 간의 덧셈\n",
    "print('행:',np_arr2.sum(axis=1)) # 행 간의 덧셈\n",
    "\n"
   ]
  },
  {
   "cell_type": "code",
   "execution_count": 61,
   "id": "29c2c01b-93f2-4484-b3cc-b7d8746ebbf4",
   "metadata": {},
   "outputs": [
    {
     "name": "stdout",
     "output_type": "stream",
     "text": [
      "[1 2 3 4 5 6 7 8 9]\n",
      "[[1 2 3]\n",
      " [4 5 6]\n",
      " [7 8 9]]\n",
      "(3, 3)\n"
     ]
    }
   ],
   "source": [
    "\n",
    "# 1차원 배열 생성\n",
    "arr = np.arange(1,10) # 1~9\n",
    "print(arr)\n",
    "\n",
    "# 리 쉐입 3x3\n",
    "print(arr.reshape(3,3))\n",
    "print(arr.reshape(3,3).shape)\n"
   ]
  },
  {
   "cell_type": "code",
   "execution_count": 63,
   "id": "169609b1-a93a-4c5e-b63b-45fe3e7cef07",
   "metadata": {},
   "outputs": [
    {
     "name": "stdout",
     "output_type": "stream",
     "text": [
      "285\n"
     ]
    }
   ],
   "source": [
    "# dot product(두 벡터의 대응 하는 요소를 곱한 후 그 결과를 모두 더하는 연산\n",
    "print(np.dot(arr,arr))"
   ]
  },
  {
   "cell_type": "code",
   "execution_count": 75,
   "id": "1b45ce8b-2abd-4e6f-862d-28efc84d5276",
   "metadata": {},
   "outputs": [
    {
     "name": "stdout",
     "output_type": "stream",
     "text": [
      "[[1 2 3]\n",
      " [4 5 6]\n",
      " [7 8 9]]\n",
      "[[1 4 7]\n",
      " [2 5 8]\n",
      " [3 6 9]]\n"
     ]
    }
   ],
   "source": [
    "arr2 = np.array([[1,2,3],[4,5,6],[7,8,9]])\n",
    "print(arr2)\n",
    "\n",
    "# 전치(행과 열을 서로 바꾸는)\n",
    "print(arr2.transpose())\n"
   ]
  }
 ],
 "metadata": {
  "kernelspec": {
   "display_name": "tech7",
   "language": "python",
   "name": "tech7"
  },
  "language_info": {
   "codemirror_mode": {
    "name": "ipython",
    "version": 3
   },
   "file_extension": ".py",
   "mimetype": "text/x-python",
   "name": "python",
   "nbconvert_exporter": "python",
   "pygments_lexer": "ipython3",
   "version": "3.9.19"
  }
 },
 "nbformat": 4,
 "nbformat_minor": 5
}
