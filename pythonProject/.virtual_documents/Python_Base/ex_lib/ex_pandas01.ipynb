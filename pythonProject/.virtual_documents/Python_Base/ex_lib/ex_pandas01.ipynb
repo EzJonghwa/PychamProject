


pip install pandas


import pandas as pd





data ={"name":["nick","judy","alex"]
       ,"age":[10,15,20]};
data
df =pd.DataFrame(data)
df





df['age_plus'] = df['age']+1
df['age_sqared']= df['age']*df['age']
df





df2 = pd.DataFrame({ "name": ["nick", "judy", "alex"]
                     ,"height" : [180, 165, 175]
                     , "gender" : ["M", "F", "M"]})
joined = df.set_index("name").join(df2.set_index("name"))
joined





df_mean = joined.groupby("gender").mean()
df_mean








!pip install -U finance-datareader
!pip install matplotlib


!pip install plotly


import FinanceDataReader as fdr
import matplotlib.pyplot as plt


AAPL =fdr.DataReader("AAPL") #NASDAQ 애플 종목코드 AAPL
AAPL['Close'].plot()         # Close 증가
plt.show()


AAPL.info()


AAPL.describe()  # 기초 통계 합


SAMSUNG = fdr.DataReader("005930")
SAMSUNG.head()
SAMSUNG['Close'].plot()
plt.show()


TSLA_2024 = fdr.DataReader("TSLA","2024")
TSLA_2024.head()
TSLA_2024['Close'].plot()
plt.show()


TSLA_2017 = fdr.DataReader("TSLA","2017-01-01","2024-09-27") #년월일
TSLA_2017['Close'].plot()
plt.show()


df_krw =  fdr.StockListing("KRX") # 한국 금거래소 상장 종목 정보
df_krw.head(100)


for idx, row in df_krw.iterrows(): #dataframe 순회하기
    print(idx,row['Name'],row['Code'])


!pip install openpyxl


with pd.ExcelWriter("KRW.xlsx", engine="openpyxl") as writer:
    df_krw.to_excel(writer,sheet_name="sheet1")


load_krw = pd.read_excel("KRW.xlsx",engine="openpyxl")
load_krw





load_krw.iloc[0]


load_krw.loc[:,2]


load_krw.loc[0,'Name']


load_krw.loc[0:4,'Code','Name']


6.조건 필터링 사용 loc
    -```df.loc[df['column_name']> value]```


volume = load_krw.loc[load_krw['Volume']>30000000]
volume.info()


close_max = load_krw('Close').max()
close_max


load_krw.loc[load_krw['Close'] == 977000]


load_krw = load_krw.sort_values('Close',ascending=False)
load_krw.head(10)
